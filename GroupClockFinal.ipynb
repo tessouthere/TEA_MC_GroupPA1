{
 "cells": [
  {
   "cell_type": "code",
   "execution_count": null,
   "id": "2ea7bc24",
   "metadata": {},
   "outputs": [
    {
     "name": "stdout",
     "output_type": "stream",
     "text": [
      "               __   __       __   __ \n",
      "   |    |  .  |__   __|  .  |  | |__ \n",
      "   |    |  .   __| |__   .  |__| |__| PM\n"
     ]
    }
   ],
   "source": [
    "import sys, time\n",
    "import sevseg\n",
    "from IPython.display import clear_output\n",
    "def digital_clock(currentTime=time.localtime()):\n",
    "    active=True\n",
    "    while active==True:\n",
    "        currentTime=time.localtime()\n",
    "        hours=str(currentTime.tm_hour)\n",
    "        if hours == '0':\n",
    "            hours = '12'\n",
    "        minutes = str(currentTime.tm_min)\n",
    "        seconds = str(currentTime.tm_sec)\n",
    "        AMorPM='AM'\n",
    "        if hours == '13'or'14'or'15'or'16'or'17'or'18'or'19'or'20'or'21'or'22'or'23'or'24':\n",
    "            AMorPM='PM'\n",
    "        #print(currentTime)\n",
    "        #print(hours)\n",
    "        #print(minutes)\n",
    "        #print(seconds)\n",
    "        hDigits=sevseg.getSevSegStr(hours,2)\n",
    "        hTopRow,hMiddleRow,hBottomRow=hDigits.splitlines()\n",
    "        #hTopRow    # '         '\n",
    "        #hMiddleRow # '   |    |'\n",
    "        #hBottomRow # '   |    |'\n",
    "        mDigits=sevseg.getSevSegStr(minutes,2)\n",
    "        mTopRow,mMiddleRow,mBottomRow=mDigits.splitlines()\n",
    "        #mTopRow    # ' __   __ '\n",
    "        #mMiddleRow # '|  | |__|'\n",
    "        #mBottomRow # '|__| |__|'\n",
    "        sDigits=sevseg.getSevSegStr(seconds,2)\n",
    "        sTopRow,sMiddleRow,sBottomRow=sDigits.splitlines()\n",
    "        #sTopRow    # ' __   __ '\n",
    "        #sMiddleRow # '|  |  __|'\n",
    "        #sBottomRow # '|__| |__ '\n",
    "        TopRow=(hTopRow+\"     \"+mTopRow+\"     \"+sTopRow)\n",
    "        MiddleRow=str(hMiddleRow+\"  .  \"+mMiddleRow+\"  .  \"+sMiddleRow)\n",
    "        BottomRow=str(hBottomRow+\"  .  \"+mBottomRow+\"  .  \"+sBottomRow)\n",
    "        print(TopRow)\n",
    "        print(MiddleRow)\n",
    "        print(BottomRow, AMorPM)\n",
    "        time.sleep(1)\n",
    "        clear_output(wait=True)\n",
    "digital_clock()"
   ]
  },
  {
   "cell_type": "code",
   "execution_count": null,
   "id": "30191485",
   "metadata": {},
   "outputs": [],
   "source": []
  }
 ],
 "metadata": {
  "kernelspec": {
   "display_name": "Python 3 (ipykernel)",
   "language": "python",
   "name": "python3"
  },
  "language_info": {
   "codemirror_mode": {
    "name": "ipython",
    "version": 3
   },
   "file_extension": ".py",
   "mimetype": "text/x-python",
   "name": "python",
   "nbconvert_exporter": "python",
   "pygments_lexer": "ipython3",
   "version": "3.9.12"
  }
 },
 "nbformat": 4,
 "nbformat_minor": 5
}
